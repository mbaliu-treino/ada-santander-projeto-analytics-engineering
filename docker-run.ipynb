{
 "cells": [
  {
   "cell_type": "markdown",
   "metadata": {},
   "source": [
    "# PGADMIN4\n",
    "\n",
    "**ROTEIRO**\n",
    "\n",
    "1. Pull da imagem\n",
    "2. Execução da imagem\n",
    "\n",
    "\n",
    "### 1. Obtenção da iamgem do PgAdmin4\n",
    "\n",
    "Download do arquivo da imagem do PgAdmin para facilitar as execuções posteriores.\n",
    "\n",
    "```bash\n",
    "# Docker image pull\n",
    "docker pull dpage/pgadmin4\n",
    "```\n",
    "\n",
    "### 2. Execução do Container\n",
    "\n",
    "Existem três opções de como executar um container docker: \n",
    "\n",
    "1. Comando run\n",
    "2. Dockerfile\n",
    "3. Docker-compose\n"
   ]
  },
  {
   "cell_type": "code",
   "execution_count": null,
   "metadata": {},
   "outputs": [],
   "source": [
    "# 1. Docker run\n",
    "!docker run -p 80:80 \\\n",
    "    -e 'PGADMIN_DEFAULT_EMAIL=ma.baliu@gmail.com' \\\n",
    "    -e 'PGADMIN_DEFAULT_PASSWORD=secret' \\\n",
    "    --name pga \\\n",
    "    -d dpage/pgadmin4\n",
    "\n",
    "!docker run -p 80:80  -e 'PGADMIN_DEFAULT_EMAIL=ma.baliu@gmail.com'  -e 'PGADMIN_DEFAULT_PASSWORD=secret'  --name pga  -d dpage/pgadmin4"
   ]
  },
  {
   "cell_type": "code",
   "execution_count": null,
   "metadata": {},
   "outputs": [],
   "source": [
    "# 2. Dockerfile\n",
    "FROM dpage/pgadmin4\n",
    "NAME pga\n",
    "ENV 'PGADMIN_DEFAULT_EMAIL=ma.baliu@gmail.com'\n",
    "ENV 'PGADMIN_DEFAULT_PASSWORD=secret'\n",
    "PORT 80:80\n",
    "\n",
    "docker run -d ."
   ]
  },
  {
   "cell_type": "code",
   "execution_count": null,
   "metadata": {},
   "outputs": [],
   "source": [
    "# 3. Docker-compose\n"
   ]
  },
  {
   "cell_type": "markdown",
   "metadata": {},
   "source": [
    "Para acessar:\n",
    "\n",
    "* Esperar uns 5 minutos (no inspect precisa mostrar o GET...)\n",
    "* localhost:80"
   ]
  },
  {
   "cell_type": "markdown",
   "metadata": {},
   "source": [
    "# PSQL\n",
    "\n",
    "* https://hub.docker.com/_/postgres"
   ]
  },
  {
   "cell_type": "code",
   "execution_count": null,
   "metadata": {},
   "outputs": [],
   "source": [
    "docker run --name db_psql -e \"POSTGRES_PASSWORD=secret\" -d --rm postgres\n",
    "\n",
    "\n",
    "docker run --name db_psql -e \"POSTGRES_PASSWORD=secret\" -e POSTGRES_DB=postgres -e POSTGRES_USER=postgres -p 5432:5432 -d --rm postgres"
   ]
  },
  {
   "cell_type": "code",
   "execution_count": null,
   "metadata": {
    "vscode": {
     "languageId": "xml"
    }
   },
   "outputs": [],
   "source": [
    "# Dokcerfile\n",
    "version: '3.1'\n",
    "\n",
    "services:\n",
    "    db:\n",
    "        image: postgres\n",
    "        restart: always\n",
    "        environment:\n",
    "            - POSTGRES_USER=postgres\n",
    "            - POSTGRES_PASSWORD=secret\n",
    "            - POSTGRES_DB=postgres\n",
    "        port:\n",
    "            - 5432:5432\n",
    "        volumes:\n",
    "            - /data:/var/lib/postgresql/data\n",
    "\n",
    "    adminer:\n",
    "        image: adminer\n",
    "        restart: always\n",
    "        ports:\n",
    "        - 8080:8080\n"
   ]
  },
  {
   "cell_type": "markdown",
   "metadata": {},
   "source": [
    "## Docker Compose\n",
    "\n",
    "O Docker Compose permite definir e compartilhar uma aplicação multi-container. Com ele é possível criar um único arquivo (YAML) e executar um único controle que irá executar todas as operações necessárias para configurar o ambiente desejado.\n",
    "\n",
    "Então com ele é muito fácil configurar o ambiente via código em um único arquivo, permitindo inclusive ser versionado. Isso facilita muito a manutenção da aplicação e o trabalho compartilhado. Neste enário, com o arquivo YAML na pasta raiz do projeto, basta uma pessoa baixar o repositório do GitHub e iniciar a aplicação usando o Compose.\n",
    "\n",
    "Cada Container é chamado de Serviço.\n",
    "\n",
    "\n",
    "1. Arquivo `compose.yaml`\n",
    "2. Escrita\n",
    "    * Nome do container. O nome será usado automaticamente como um alias do network.\n",
    "    * \n",
    "\n",
    "\n"
   ]
  },
  {
   "cell_type": "markdown",
   "metadata": {},
   "source": [
    "* [Docker-compose componentes](https://gist.github.com/ju2wheels/1885539d63dbcfb20729)"
   ]
  },
  {
   "cell_type": "code",
   "execution_count": null,
   "metadata": {
    "vscode": {
     "languageId": "xml"
    }
   },
   "outputs": [],
   "source": [
    "services:\n",
    "    db:\n",
    "        image: postgres\n",
    "        ports:\n",
    "            127.0.0.1:5432:5432\n",
    "        environment:\n",
    "            POSTGRES_USER: postgres\n",
    "            POSTGRES_PASSWORD: secret\n",
    "            POSTGRES_DB: postgres\n",
    "        # env_file\n",
    "        # Expose ports without publishing them to the host machine - they'll only\n",
    "        # be accessible to linked services. Only the internal port can be specified.\n",
    "        # expose:\n",
    "        #     - \"3000\"\n",
    "        #     - \"8000\"\n",
    "        "
   ]
  },
  {
   "cell_type": "code",
   "execution_count": null,
   "metadata": {
    "vscode": {
     "languageId": "xml"
    }
   },
   "outputs": [],
   "source": [
    "docker compose up -d [-f FILE-PATH]\n",
    "\n",
    "docker compose logs -f\n",
    "\n",
    "docker compose down"
   ]
  },
  {
   "cell_type": "markdown",
   "metadata": {},
   "source": [
    "https://github.com/khezen/compose-postgres/blob/master/docker-compose.yml"
   ]
  },
  {
   "cell_type": "markdown",
   "metadata": {},
   "source": [
    "## Variáveis de Ambiente"
   ]
  }
 ],
 "metadata": {
  "language_info": {
   "name": "python"
  }
 },
 "nbformat": 4,
 "nbformat_minor": 2
}
